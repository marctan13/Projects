{
 "cells": [
  {
   "cell_type": "code",
   "execution_count": 1,
   "id": "0ba05557",
   "metadata": {},
   "outputs": [],
   "source": [
    "import pandas as pd"
   ]
  },
  {
   "cell_type": "code",
   "execution_count": 2,
   "id": "48ff9e8b",
   "metadata": {},
   "outputs": [],
   "source": [
    "visits = pd.read_csv('visits.csv',parse_dates=[1])\n",
    "cart = pd.read_csv('cart.csv',parse_dates=[1])\n",
    "checkout = pd.read_csv('checkout.csv',parse_dates=[1])\n",
    "purchase = pd.read_csv('purchase.csv',parse_dates=[1])"
   ]
  },
  {
   "cell_type": "code",
   "execution_count": 3,
   "id": "dda07c1e",
   "metadata": {},
   "outputs": [
    {
     "name": "stdout",
     "output_type": "stream",
     "text": [
      "                                   user_id          visit_time\n",
      "0     943647ef-3682-4750-a2e1-918ba6f16188 2017-04-07 15:14:00\n",
      "1     0c3a3dd0-fb64-4eac-bf84-ba069ce409f2 2017-01-26 14:24:00\n",
      "2     6e0b2d60-4027-4d9a-babd-0e7d40859fb1 2017-08-20 08:23:00\n",
      "3     6879527e-c5a6-4d14-b2da-50b85212b0ab 2017-11-04 18:15:00\n",
      "4     a84327ff-5daa-4ba1-b789-d5b4caf81e96 2017-02-27 11:25:00\n",
      "...                                    ...                 ...\n",
      "1995  33913ac2-03da-45ae-8fc3-fea39df827c6 2017-03-25 03:29:00\n",
      "1996  4f850132-b99d-4623-80e6-6e61d003577e 2017-01-08 09:57:00\n",
      "1997  f0830b9b-1f5c-4e74-b63d-3f847cc6ce70 2017-09-07 12:56:00\n",
      "1998  b01bffa7-63ba-4cd3-9d93-eb1477c23831 2017-07-20 04:37:00\n",
      "1999  0336ca81-8d68-443f-9248-ac0b8ad147d5 2017-11-15 10:11:00\n",
      "\n",
      "[2000 rows x 2 columns]\n",
      "                                  user_id           cart_time\n",
      "0    2be90e7c-9cca-44e0-bcc5-124b945ff168 2017-11-07 20:45:00\n",
      "1    4397f73f-1da3-4ab3-91af-762792e25973 2017-05-27 01:35:00\n",
      "2    a9db3d4b-0a0a-4398-a55a-ebb2c7adf663 2017-03-04 10:38:00\n",
      "3    b594862a-36c5-47d5-b818-6e9512b939b3 2017-09-27 08:22:00\n",
      "4    a68a16e2-94f0-4ce8-8ce3-784af0bbb974 2017-07-26 15:48:00\n",
      "..                                    ...                 ...\n",
      "343  952be3a5-9240-484f-845c-a6b2cbed72ee 2017-05-02 05:40:00\n",
      "344  59d2b685-383a-4fce-a325-35d985713a8b 2017-01-20 03:58:00\n",
      "345  a1203970-92ae-4fc7-843e-e1740c1be9d5 2017-11-12 23:07:00\n",
      "346  55de53ae-89f6-43ff-a26d-df284678aca1 2017-03-17 19:56:00\n",
      "347  0ea4cc68-dae4-4e35-b3e0-f0889932e1b5 2017-05-12 08:53:00\n",
      "\n",
      "[348 rows x 2 columns]\n",
      "                                  user_id       checkout_time\n",
      "0    d33bdc47-4afa-45bc-b4e4-dbe948e34c0d 2017-06-25 09:29:00\n",
      "1    4ac186f0-9954-4fea-8a27-c081e428e34e 2017-04-07 20:11:00\n",
      "2    3c9c78a7-124a-4b77-8d2e-e1926e011e7d 2017-07-13 11:38:00\n",
      "3    89fe330a-8966-4756-8f7c-3bdbcd47279a 2017-04-20 16:15:00\n",
      "4    3ccdaf69-2d30-40de-b083-51372881aedd 2017-01-08 20:52:00\n",
      "..                                    ...                 ...\n",
      "355  dbdfeb12-cbb2-4c43-98a9-57fa126c19fc 2017-05-25 16:34:00\n",
      "356  21dec5fa-999a-45c5-b59b-18a1ee161379 2017-03-17 12:40:00\n",
      "357  f3dd7631-3cf6-4d49-9c6e-b48eda4432b5 2017-01-04 10:20:00\n",
      "358  ba011b1d-6cc5-4147-ae8a-1722a1f5c27c 2017-10-24 08:32:00\n",
      "359  d2cb350b-2201-4290-b2e0-84a8bf0d6883 2017-08-08 16:14:00\n",
      "\n",
      "[360 rows x 2 columns]\n",
      "                                  user_id       purchase_time\n",
      "0    4b44ace4-2721-47a0-b24b-15fbfa2abf85 2017-05-11 04:25:00\n",
      "1    02e684ae-a448-408f-a9ff-dcb4a5c99aac 2017-09-05 08:45:00\n",
      "2    4b4bc391-749e-4b90-ab8f-4f6e3c84d6dc 2017-11-20 20:49:00\n",
      "3    a5dbb25f-3c36-4103-9030-9f7c6241cd8d 2017-01-22 15:18:00\n",
      "4    46a3186d-7f5a-4ab9-87af-84d05bfd4867 2017-06-11 11:32:00\n",
      "..                                    ...                 ...\n",
      "247  278c0f3c-d092-4e7f-b97b-97cc9d57c1c2 2017-01-05 02:45:00\n",
      "248  952be3a5-9240-484f-845c-a6b2cbed72ee 2017-05-02 06:10:00\n",
      "249  27e5a297-332d-4e8b-8e2a-b97ae8c5b6f9 2017-09-04 17:39:00\n",
      "250  4b04c692-d814-45bd-854a-000e0ef4e92a 2017-06-20 17:28:00\n",
      "251  c62fdf2f-3b30-4624-8463-d3961e687997 2017-11-21 23:00:00\n",
      "\n",
      "[252 rows x 2 columns]\n"
     ]
    }
   ],
   "source": [
    "print(visits)\n",
    "print(cart)\n",
    "print(checkout)\n",
    "print(purchase)"
   ]
  },
  {
   "cell_type": "code",
   "execution_count": 4,
   "id": "8d3e2c2b",
   "metadata": {},
   "outputs": [
    {
     "name": "stdout",
     "output_type": "stream",
     "text": [
      "                                   user_id          visit_time  \\\n",
      "0     943647ef-3682-4750-a2e1-918ba6f16188 2017-04-07 15:14:00   \n",
      "1     0c3a3dd0-fb64-4eac-bf84-ba069ce409f2 2017-01-26 14:24:00   \n",
      "2     6e0b2d60-4027-4d9a-babd-0e7d40859fb1 2017-08-20 08:23:00   \n",
      "3     6879527e-c5a6-4d14-b2da-50b85212b0ab 2017-11-04 18:15:00   \n",
      "4     a84327ff-5daa-4ba1-b789-d5b4caf81e96 2017-02-27 11:25:00   \n",
      "...                                    ...                 ...   \n",
      "1995  33913ac2-03da-45ae-8fc3-fea39df827c6 2017-03-25 03:29:00   \n",
      "1996  4f850132-b99d-4623-80e6-6e61d003577e 2017-01-08 09:57:00   \n",
      "1997  f0830b9b-1f5c-4e74-b63d-3f847cc6ce70 2017-09-07 12:56:00   \n",
      "1998  b01bffa7-63ba-4cd3-9d93-eb1477c23831 2017-07-20 04:37:00   \n",
      "1999  0336ca81-8d68-443f-9248-ac0b8ad147d5 2017-11-15 10:11:00   \n",
      "\n",
      "               cart_time  \n",
      "0                    NaT  \n",
      "1    2017-01-26 14:44:00  \n",
      "2    2017-08-20 08:31:00  \n",
      "3                    NaT  \n",
      "4                    NaT  \n",
      "...                  ...  \n",
      "1995                 NaT  \n",
      "1996                 NaT  \n",
      "1997                 NaT  \n",
      "1998                 NaT  \n",
      "1999                 NaT  \n",
      "\n",
      "[2000 rows x 3 columns]\n"
     ]
    }
   ],
   "source": [
    "#Combine visits and cart using a left merge.\n",
    "\n",
    "visit_cart = pd.merge(visits, cart, how='left')\n",
    "print(visit_cart)"
   ]
  },
  {
   "cell_type": "code",
   "execution_count": 5,
   "id": "c40b9171",
   "metadata": {},
   "outputs": [
    {
     "name": "stdout",
     "output_type": "stream",
     "text": [
      "2000\n"
     ]
    }
   ],
   "source": [
    "#how many rows in the merged datafram\n",
    "print(len(visit_cart))"
   ]
  },
  {
   "cell_type": "code",
   "execution_count": 6,
   "id": "6e1bd3b2",
   "metadata": {},
   "outputs": [
    {
     "name": "stdout",
     "output_type": "stream",
     "text": [
      "Number of visitors who did not add anything to cart: 1652\n"
     ]
    }
   ],
   "source": [
    "#How many of the timestamps are null for the column cart_time?\n",
    "\n",
    "visit_no_cart = visit_cart.cart_time.isnull().sum()\n",
    "print(\"Number of visitors who did not add anything to cart: \" + str(visit_no_cart))\n",
    "\n",
    "#1652 visitors out of the 2000 did not add anything to their cart"
   ]
  },
  {
   "cell_type": "code",
   "execution_count": 7,
   "id": "7215a12d",
   "metadata": {},
   "outputs": [
    {
     "name": "stdout",
     "output_type": "stream",
     "text": [
      "Percentage of visitors who did not add to cart: 82.6%\n"
     ]
    }
   ],
   "source": [
    "#Percentage opf visitors who added an item to their item after visiting the site\n",
    "\n",
    "visit_cart_perc = float(visit_cart.cart_time.isnull().sum()) / len(visit_cart.cart_time) * 100\n",
    "print(\"Percentage of visitors who did not add to cart: \" + str(visit_cart_perc) + \"%\")"
   ]
  },
  {
   "cell_type": "code",
   "execution_count": 8,
   "id": "cc84abb3",
   "metadata": {},
   "outputs": [
    {
     "name": "stdout",
     "output_type": "stream",
     "text": [
      "Percentage of visitors who added to cart but did not proceed to checkout: 25.311203319502074%\n"
     ]
    }
   ],
   "source": [
    "#Added to cart but did not checkout\n",
    "\n",
    "cart_checkout_left = pd.merge(cart, checkout, how = 'left')\n",
    "cart_checkout_perc = float(cart_checkout_left.checkout_time.isnull().sum()) / len(cart_checkout_left.checkout_time) * 100\n",
    "print(\"Percentage of visitors who added to cart but did not proceed to checkout: \" + str(cart_checkout_perc) + \"%\")"
   ]
  },
  {
   "cell_type": "code",
   "execution_count": 9,
   "id": "b7ffe8e9",
   "metadata": {},
   "outputs": [
    {
     "name": "stdout",
     "output_type": "stream",
     "text": [
      "                                user_id          visit_time  \\\n",
      "0  943647ef-3682-4750-a2e1-918ba6f16188 2017-04-07 15:14:00   \n",
      "1  0c3a3dd0-fb64-4eac-bf84-ba069ce409f2 2017-01-26 14:24:00   \n",
      "2  6e0b2d60-4027-4d9a-babd-0e7d40859fb1 2017-08-20 08:23:00   \n",
      "3  6879527e-c5a6-4d14-b2da-50b85212b0ab 2017-11-04 18:15:00   \n",
      "4  a84327ff-5daa-4ba1-b789-d5b4caf81e96 2017-02-27 11:25:00   \n",
      "\n",
      "            cart_time       checkout_time       purchase_time  \n",
      "0                 NaT                 NaT                 NaT  \n",
      "1 2017-01-26 14:44:00 2017-01-26 14:54:00 2017-01-26 15:08:00  \n",
      "2 2017-08-20 08:31:00                 NaT                 NaT  \n",
      "3                 NaT                 NaT                 NaT  \n",
      "4                 NaT                 NaT                 NaT  \n"
     ]
    }
   ],
   "source": [
    "#merging all dataframes into one\n",
    "\n",
    "all_data = visits.merge(cart, how ='left').merge(checkout, how = 'left').merge(purchase, how= 'left')\n",
    "\n",
    "print(all_data.head())"
   ]
  },
  {
   "cell_type": "code",
   "execution_count": 10,
   "id": "2f135849",
   "metadata": {},
   "outputs": [
    {
     "name": "stdout",
     "output_type": "stream",
     "text": [
      "Percentage of visitors who went to checkout but did not make the purchase: 16.88963210702341%\n"
     ]
    }
   ],
   "source": [
    "checkout_purchase = pd.merge(checkout, purchase, how = 'left')\n",
    "checkout_purchase_perc = float((checkout_purchase.purchase_time.isnull().sum()) / len(checkout_purchase.purchase_time) * 100)\n",
    "\n",
    "print(\"Percentage of visitors who went to checkout but did not make the purchase: \" + str(checkout_purchase_perc) + \"%\")"
   ]
  },
  {
   "cell_type": "code",
   "execution_count": 11,
   "id": "74208322",
   "metadata": {},
   "outputs": [
    {
     "name": "stdout",
     "output_type": "stream",
     "text": [
      "Percentage of visitors who did not add to cart: 82.6%\n",
      "Percentage of cart to checkout is: 25.311203319502074%\n",
      "Visitors checking out but never purchased: 16.88963210702341%\n"
     ]
    }
   ],
   "source": [
    "#There is more visitors who were not able to add anything to cart than visitors who added to cart and proceeded to make the purchase\n",
    "\n",
    "print(\"Percentage of visitors who did not add to cart: \" + str(visit_cart_perc) + \"%\")\n",
    "print(\"Percentage of cart to checkout is: \" + str(cart_checkout_perc) + \"%\")\n",
    "print(\"Visitors checking out but never purchased: \" + str(checkout_purchase_perc) + \"%\")"
   ]
  },
  {
   "cell_type": "code",
   "execution_count": 12,
   "id": "2041cedf",
   "metadata": {},
   "outputs": [
    {
     "name": "stdout",
     "output_type": "stream",
     "text": [
      "                                   user_id          visit_time  \\\n",
      "0     943647ef-3682-4750-a2e1-918ba6f16188 2017-04-07 15:14:00   \n",
      "1     0c3a3dd0-fb64-4eac-bf84-ba069ce409f2 2017-01-26 14:24:00   \n",
      "2     6e0b2d60-4027-4d9a-babd-0e7d40859fb1 2017-08-20 08:23:00   \n",
      "3     6879527e-c5a6-4d14-b2da-50b85212b0ab 2017-11-04 18:15:00   \n",
      "4     a84327ff-5daa-4ba1-b789-d5b4caf81e96 2017-02-27 11:25:00   \n",
      "...                                    ...                 ...   \n",
      "2367  33913ac2-03da-45ae-8fc3-fea39df827c6 2017-03-25 03:29:00   \n",
      "2368  4f850132-b99d-4623-80e6-6e61d003577e 2017-01-08 09:57:00   \n",
      "2369  f0830b9b-1f5c-4e74-b63d-3f847cc6ce70 2017-09-07 12:56:00   \n",
      "2370  b01bffa7-63ba-4cd3-9d93-eb1477c23831 2017-07-20 04:37:00   \n",
      "2371  0336ca81-8d68-443f-9248-ac0b8ad147d5 2017-11-15 10:11:00   \n",
      "\n",
      "               cart_time       checkout_time       purchase_time  \\\n",
      "0                    NaT                 NaT                 NaT   \n",
      "1    2017-01-26 14:44:00 2017-01-26 14:54:00 2017-01-26 15:08:00   \n",
      "2    2017-08-20 08:31:00                 NaT                 NaT   \n",
      "3                    NaT                 NaT                 NaT   \n",
      "4                    NaT                 NaT                 NaT   \n",
      "...                  ...                 ...                 ...   \n",
      "2367                 NaT                 NaT                 NaT   \n",
      "2368                 NaT                 NaT                 NaT   \n",
      "2369                 NaT                 NaT                 NaT   \n",
      "2370                 NaT                 NaT                 NaT   \n",
      "2371                 NaT                 NaT                 NaT   \n",
      "\n",
      "     time_to_purchase  \n",
      "0                 NaT  \n",
      "1     0 days 00:44:00  \n",
      "2                 NaT  \n",
      "3                 NaT  \n",
      "4                 NaT  \n",
      "...               ...  \n",
      "2367              NaT  \n",
      "2368              NaT  \n",
      "2369              NaT  \n",
      "2370              NaT  \n",
      "2371              NaT  \n",
      "\n",
      "[2372 rows x 6 columns]\n"
     ]
    }
   ],
   "source": [
    "#Adding a new column in the merged dataframe calculating from time of visit to the time of purchase\n",
    "\n",
    "all_data['time_to_purchase'] = all_data.purchase_time - all_data.visit_time\n",
    "print(all_data)"
   ]
  },
  {
   "cell_type": "code",
   "execution_count": 13,
   "id": "f26cb258",
   "metadata": {},
   "outputs": [
    {
     "name": "stdout",
     "output_type": "stream",
     "text": [
      "Average vistor time to purchase is: 0 days 00:43:53.360160965\n"
     ]
    }
   ],
   "source": [
    "avg_time_to_purchase = all_data.time_to_purchase.mean()\n",
    "print(\"Average vistor time to purchase is: \" + str(avg_time_to_purchase))"
   ]
  }
 ],
 "metadata": {
  "kernelspec": {
   "display_name": "Python 3 (ipykernel)",
   "language": "python",
   "name": "python3"
  },
  "language_info": {
   "codemirror_mode": {
    "name": "ipython",
    "version": 3
   },
   "file_extension": ".py",
   "mimetype": "text/x-python",
   "name": "python",
   "nbconvert_exporter": "python",
   "pygments_lexer": "ipython3",
   "version": "3.10.2"
  }
 },
 "nbformat": 4,
 "nbformat_minor": 5
}
