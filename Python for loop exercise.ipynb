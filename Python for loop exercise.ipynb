{
 "cells": [
  {
   "cell_type": "markdown",
   "id": "5fba0eea",
   "metadata": {},
   "source": [
    "Analyzing medical insurance data using python lists and loops"
   ]
  },
  {
   "cell_type": "markdown",
   "id": "9f4ebc9a",
   "metadata": {},
   "source": [
    "1. First, let's take a look at three lists in the code block below:\n",
    "   - `names` stores the names of seven individuals.\n",
    "   - `estimated_insurance_costs` stores the estimated medical insurance costs for the individuals.\n",
    "   - `actual_insurance_costs` stores the actual insurance costs paid by the individuals.\n",
    "   \n",
    "   We want to calculate the average insurance cost each person paid. We'll start by adding up all of the insurance costs.\n",
    "   \n",
    "   Create a variable `total_cost` and initialize it to `0`."
   ]
  },
  {
   "cell_type": "code",
   "execution_count": 1,
   "id": "8a7a6ffb",
   "metadata": {},
   "outputs": [],
   "source": [
    "#lists of names and their estimated and actual costs\n",
    "names = [\"Judith\", \"Abel\", \"Tyson\", \"Martha\", \"Beverley\", \"David\", \"Anabel\"]\n",
    "estimated_insurance_costs = [1000.0, 2000.0, 3000.0, 4000.0, 5000.0, 6000.0, 7000.0]\n",
    "actual_insurance_costs = [1100.0, 2200.0, 3300.0, 4400.0, 5500.0, 6600.0, 7700.0]"
   ]
  },
  {
   "cell_type": "code",
   "execution_count": 2,
   "id": "ebf235da",
   "metadata": {},
   "outputs": [],
   "source": [
    "total_cost = 0"
   ]
  },
  {
   "cell_type": "code",
   "execution_count": 3,
   "id": "c98b0e4c",
   "metadata": {},
   "outputs": [],
   "source": [
    "#using for loop to add each actual costs to the total cost\n",
    "for actual_cost in actual_insurance_costs:\n",
    "  total_cost += actual_cost"
   ]
  },
  {
   "cell_type": "code",
   "execution_count": 4,
   "id": "9b039e2b",
   "metadata": {},
   "outputs": [
    {
     "name": "stdout",
     "output_type": "stream",
     "text": [
      "Average Insurance Cost: 4400.0 dollars.\n"
     ]
    }
   ],
   "source": [
    "#Creating an average cost for the actual insurance costs by dividing the sum of total cost by the number of elements inside the actual cost list\n",
    "average_cost = total_cost / len(actual_insurance_costs)\n",
    "print(\"Average Insurance Cost: \" + str(average_cost) + \" dollars.\")"
   ]
  },
  {
   "cell_type": "markdown",
   "id": "95be71dd",
   "metadata": {},
   "source": [
    "For each individual, we want to determine if their actual cost is above or below average. We use a for loop to iterate through each name in the list. Then add an if statement if their actual cost is above or below average."
   ]
  },
  {
   "cell_type": "code",
   "execution_count": 6,
   "id": "bfd96051",
   "metadata": {},
   "outputs": [
    {
     "name": "stdout",
     "output_type": "stream",
     "text": [
      "The insurance cost for Judith is 1100.0 dollars.\n",
      "The insurance cost for Judith is below average.\n",
      "The insurance cost for Abel is 2200.0 dollars.\n",
      "The insurance cost for Abel is below average.\n",
      "The insurance cost for Tyson is 3300.0 dollars.\n",
      "The insurance cost for Tyson is below average.\n",
      "The insurance cost for Martha is 4400.0 dollars.\n",
      "The insurance cost for Martha is equal to the average.\n",
      "The insurance cost for Beverley is 5500.0 dollars.\n",
      "The insurance cost for Beverley is above average.\n",
      "The insurance cost for David is 6600.0 dollars.\n",
      "The insurance cost for David is above average.\n",
      "The insurance cost for Anabel is 7700.0 dollars.\n",
      "The insurance cost for Anabel is above average.\n"
     ]
    }
   ],
   "source": [
    "for i in range(len(names)):\n",
    "  name = names[i]\n",
    "  insurance_cost = actual_insurance_costs[i]\n",
    "  print(\"The insurance cost for \" + name + \" is \" + str(insurance_cost) + \" dollars.\") \n",
    "  if insurance_cost > average_cost:\n",
    "    print(\"The insurance cost for \" + name + \" is above average.\")\n",
    "  elif insurance_cost < average_cost:\n",
    "    print(\"The insurance cost for \" + name + \" is below average.\")\n",
    "  else:\n",
    "    print(\"The insurance cost for \" + name + \" is equal to the average.\")"
   ]
  },
  {
   "cell_type": "markdown",
   "id": "b04110de",
   "metadata": {},
   "source": [
    "If you look closely at actual_insurance_costs and estimated_insurance_costs, you will notice that each of the actual insurance costs are 10% higher than the estimated insurance costs.\n",
    "\n",
    "Using a list comprehension, create a new list called updated_estimated_costs, which has each element in estimated_insurance_costs multiplied by 11/10."
   ]
  },
  {
   "cell_type": "code",
   "execution_count": 7,
   "id": "82f7f460",
   "metadata": {},
   "outputs": [
    {
     "name": "stdout",
     "output_type": "stream",
     "text": [
      "[1100.0, 2200.0, 3300.0, 4400.0, 5500.0, 6600.0, 7700.0]\n"
     ]
    }
   ],
   "source": [
    "updated_estimated_costs = [estimated_costs * 11/10 for estimated_costs in estimated_insurance_costs]\n",
    "print(updated_estimated_costs)"
   ]
  }
 ],
 "metadata": {
  "kernelspec": {
   "display_name": "Python 3 (ipykernel)",
   "language": "python",
   "name": "python3"
  },
  "language_info": {
   "codemirror_mode": {
    "name": "ipython",
    "version": 3
   },
   "file_extension": ".py",
   "mimetype": "text/x-python",
   "name": "python",
   "nbconvert_exporter": "python",
   "pygments_lexer": "ipython3",
   "version": "3.10.2"
  }
 },
 "nbformat": 4,
 "nbformat_minor": 5
}
