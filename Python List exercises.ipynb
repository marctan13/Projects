{
 "cells": [
  {
   "cell_type": "code",
   "execution_count": 16,
   "id": "53cca041",
   "metadata": {},
   "outputs": [],
   "source": [
    "names = [\"Mohamed\", \"Sara\", \"Xia\", \"Paul\", \"Valentina\", \"Jide\", \"Aaron\", \"Emily\", \"Nikita\", \"Paul\"]\n",
    "insurance_costs = [13262.0, 4816.0, 6839.0, 5054.0, 14724.0, 5360.0, 7640.0, 6072.0, 2750.0, 12064.0]"
   ]
  },
  {
   "cell_type": "code",
   "execution_count": 17,
   "id": "856f2eaf",
   "metadata": {},
   "outputs": [],
   "source": [
    "#add new patient info\n",
    "names.append(\"Priscilla\")\n",
    "insurance_costs.append(8320.0)"
   ]
  },
  {
   "cell_type": "code",
   "execution_count": 18,
   "id": "5ce15712",
   "metadata": {},
   "outputs": [
    {
     "name": "stdout",
     "output_type": "stream",
     "text": [
      "[(13262.0, 'Mohamed'), (4816.0, 'Sara'), (6839.0, 'Xia'), (5054.0, 'Paul'), (14724.0, 'Valentina'), (5360.0, 'Jide'), (7640.0, 'Aaron'), (6072.0, 'Emily'), (2750.0, 'Nikita'), (12064.0, 'Paul'), (8320.0, 'Priscilla')]\n"
     ]
    }
   ],
   "source": [
    "#Concatenate the two list to make a list that contains the name and their insurance costs\n",
    "\n",
    "medical_records = list(zip(insurance_costs, names))\n",
    "print(medical_records)"
   ]
  },
  {
   "cell_type": "code",
   "execution_count": 19,
   "id": "282f0d80",
   "metadata": {},
   "outputs": [
    {
     "name": "stdout",
     "output_type": "stream",
     "text": [
      "There are 11 medical records.\n"
     ]
    }
   ],
   "source": [
    "#Checking to see how many elements are there in the combined list\n",
    "\n",
    "num_medical_records = len(medical_records)\n",
    "print(\"There are \" + str(num_medical_records) + \" medical records.\")"
   ]
  },
  {
   "cell_type": "code",
   "execution_count": 20,
   "id": "65bc7e93",
   "metadata": {},
   "outputs": [
    {
     "name": "stdout",
     "output_type": "stream",
     "text": [
      "Here is the first medical record: (13262.0, 'Mohamed')\n"
     ]
    }
   ],
   "source": [
    "#What is the first element in the list\n",
    "\n",
    "first_medical_record = medical_records[0]\n",
    "print(\"Here is the first medical record: \" + str(first_medical_record))"
   ]
  },
  {
   "cell_type": "code",
   "execution_count": 21,
   "id": "84f5b05b",
   "metadata": {},
   "outputs": [
    {
     "name": "stdout",
     "output_type": "stream",
     "text": [
      "Here are the medical records sorted by insurance cost: [(2750.0, 'Nikita'), (4816.0, 'Sara'), (5054.0, 'Paul'), (5360.0, 'Jide'), (6072.0, 'Emily'), (6839.0, 'Xia'), (7640.0, 'Aaron'), (8320.0, 'Priscilla'), (12064.0, 'Paul'), (13262.0, 'Mohamed'), (14724.0, 'Valentina')]\n"
     ]
    }
   ],
   "source": [
    "#Sorted the list by insurance cost from lowest to highest\n",
    "\n",
    "medical_records.sort()\n",
    "print(\"Here are the medical records sorted by insurance cost: \" + str(medical_records))"
   ]
  },
  {
   "cell_type": "code",
   "execution_count": null,
   "id": "3ba99c95",
   "metadata": {},
   "outputs": [],
   "source": [
    "#Slice out the three patients with the lowest insurance costs\n",
    "\n",
    "cheapest_three = medical_records[0:3]\n",
    "print(\"Here are the three cheapest insurance costs in our medical records: \" + str(cheapest_three))"
   ]
  },
  {
   "cell_type": "code",
   "execution_count": null,
   "id": "21913a7d",
   "metadata": {},
   "outputs": [],
   "source": [
    "#Slice out the three patients with the highest insurance costs\n",
    "\n",
    "priciest_three = medical_records[-3:]\n",
    "print(\"Here are the three most expensive insurance costs in our medical records: \" + str(priciest_three))"
   ]
  },
  {
   "cell_type": "code",
   "execution_count": null,
   "id": "c1e88b0d",
   "metadata": {},
   "outputs": [],
   "source": [
    "#Counted how many Pauls are there in the list of names\n",
    "\n",
    "occurances_paul = names.count(\"Paul\")\n",
    "print(\"There are \" + str(occurances_paul) + \" individuals with the name Paul in our medical records.\")"
   ]
  },
  {
   "cell_type": "code",
   "execution_count": null,
   "id": "6cc6febc",
   "metadata": {},
   "outputs": [],
   "source": [
    "#SLice out 5 patients in the middle of the list\n",
    "\n",
    "middle_five_records = medical_records[3:8]\n",
    "print(middle_five_records)"
   ]
  }
 ],
 "metadata": {
  "kernelspec": {
   "display_name": "Python 3 (ipykernel)",
   "language": "python",
   "name": "python3"
  },
  "language_info": {
   "codemirror_mode": {
    "name": "ipython",
    "version": 3
   },
   "file_extension": ".py",
   "mimetype": "text/x-python",
   "name": "python",
   "nbconvert_exporter": "python",
   "pygments_lexer": "ipython3",
   "version": "3.10.2"
  }
 },
 "nbformat": 4,
 "nbformat_minor": 5
}
