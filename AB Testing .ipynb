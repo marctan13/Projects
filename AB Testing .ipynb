{
 "cells": [
  {
   "cell_type": "code",
   "execution_count": 1,
   "id": "ebabd361",
   "metadata": {},
   "outputs": [],
   "source": [
    "import pandas as pd"
   ]
  },
  {
   "cell_type": "code",
   "execution_count": 2,
   "id": "6c106294",
   "metadata": {},
   "outputs": [
    {
     "name": "stdout",
     "output_type": "stream",
     "text": [
      "                                user_id utm_source           day  \\\n",
      "0  008b7c6c-7272-471e-b90e-930d548bd8d7     google  6 - Saturday   \n",
      "1  009abb94-5e14-4b6c-bb1c-4f4df7aa7557   facebook    7 - Sunday   \n",
      "2  00f5d532-ed58-4570-b6d2-768df5f41aed    twitter   2 - Tuesday   \n",
      "3  011adc64-0f44-4fd9-a0bb-f1506d2ad439     google   2 - Tuesday   \n",
      "4  012137e6-7ae7-4649-af68-205b4702169c   facebook    7 - Sunday   \n",
      "\n",
      "  ad_click_timestamp experimental_group  \n",
      "0               7:18                  A  \n",
      "1                NaN                  B  \n",
      "2                NaN                  A  \n",
      "3                NaN                  B  \n",
      "4                NaN                  B  \n"
     ]
    }
   ],
   "source": [
    "ad_clicks = pd.read_csv('ad_clicks.csv')\n",
    "print(ad_clicks.head())"
   ]
  },
  {
   "cell_type": "code",
   "execution_count": 3,
   "id": "4c29bea5",
   "metadata": {},
   "outputs": [
    {
     "name": "stdout",
     "output_type": "stream",
     "text": [
      "  utm_source  user_id\n",
      "0      email      255\n",
      "1   facebook      504\n",
      "2     google      680\n",
      "3    twitter      215\n"
     ]
    }
   ],
   "source": [
    "#Count how many visitors from each source\n",
    "\n",
    "source_views = ad_clicks.groupby('utm_source').user_id.count().reset_index()\n",
    "print(source_views)"
   ]
  },
  {
   "cell_type": "code",
   "execution_count": 4,
   "id": "40d7c64c",
   "metadata": {},
   "outputs": [
    {
     "name": "stdout",
     "output_type": "stream",
     "text": [
      "                                   user_id utm_source            day  \\\n",
      "0     008b7c6c-7272-471e-b90e-930d548bd8d7     google   6 - Saturday   \n",
      "1     009abb94-5e14-4b6c-bb1c-4f4df7aa7557   facebook     7 - Sunday   \n",
      "2     00f5d532-ed58-4570-b6d2-768df5f41aed    twitter    2 - Tuesday   \n",
      "3     011adc64-0f44-4fd9-a0bb-f1506d2ad439     google    2 - Tuesday   \n",
      "4     012137e6-7ae7-4649-af68-205b4702169c   facebook     7 - Sunday   \n",
      "...                                    ...        ...            ...   \n",
      "1649  fe8b5236-78f6-4192-9da6-a76bba67cfe6    twitter     7 - Sunday   \n",
      "1650  fed3db6d-8c92-40e3-a4fb-1fb9d7337eb1   facebook     5 - Friday   \n",
      "1651  ff3a22ff-521c-478c-87ca-7dc7b8f34372    twitter  3 - Wednesday   \n",
      "1652  ff3af0d6-b092-4c4d-9f2e-2bdd8f7c0732     google     1 - Monday   \n",
      "1653  ffdfe7ec-0c74-4623-8d90-d95d80f1ba34   facebook   6 - Saturday   \n",
      "\n",
      "     ad_click_timestamp experimental_group  is_click  \n",
      "0                  7:18                  A      True  \n",
      "1                   NaN                  B     False  \n",
      "2                   NaN                  A     False  \n",
      "3                   NaN                  B     False  \n",
      "4                   NaN                  B     False  \n",
      "...                 ...                ...       ...  \n",
      "1649                NaN                  A     False  \n",
      "1650                NaN                  B     False  \n",
      "1651                NaN                  B     False  \n",
      "1652              22:57                  A      True  \n",
      "1653                NaN                  B     False  \n",
      "\n",
      "[1654 rows x 6 columns]\n"
     ]
    }
   ],
   "source": [
    "\n",
    "#If the column ad_click_timestamp is not null, then someone actually clicked on the ad that was displayed.\n",
    "\n",
    "#Create a new column called is_click, which is True if ad_click_timestamp is not null and False otherwise\n",
    "\n",
    "ad_clicks['is_click'] = ~ad_clicks.ad_click_timestamp.isnull()\n",
    "print(ad_clicks)"
   ]
  },
  {
   "cell_type": "code",
   "execution_count": 5,
   "id": "93d7bb2d",
   "metadata": {},
   "outputs": [
    {
     "name": "stdout",
     "output_type": "stream",
     "text": [
      "  utm_source  is_click  user_id\n",
      "0      email     False      175\n",
      "1      email      True       80\n",
      "2   facebook     False      324\n",
      "3   facebook      True      180\n",
      "4     google     False      441\n",
      "5     google      True      239\n",
      "6    twitter     False      149\n",
      "7    twitter      True       66\n"
     ]
    }
   ],
   "source": [
    "clicks_by_source = ad_clicks.groupby(['utm_source', 'is_click']).user_id.count().reset_index()\n",
    "\n",
    "print(clicks_by_source)"
   ]
  },
  {
   "cell_type": "code",
   "execution_count": 6,
   "id": "d0632f7d",
   "metadata": {},
   "outputs": [
    {
     "name": "stdout",
     "output_type": "stream",
     "text": [
      "is_click utm_source  False  True\n",
      "0             email    175    80\n",
      "1          facebook    324   180\n",
      "2            google    441   239\n",
      "3           twitter    149    66\n"
     ]
    }
   ],
   "source": [
    "#pivot the data based on certain columns\n",
    "\n",
    "clicks_pivot = clicks_by_source.pivot(\n",
    "  columns = 'is_click',\n",
    "  index = 'utm_source',\n",
    "  values = 'user_id'\n",
    ").reset_index()\n",
    "\n",
    "\n",
    "print(clicks_pivot)"
   ]
  },
  {
   "cell_type": "code",
   "execution_count": 7,
   "id": "146a7713",
   "metadata": {},
   "outputs": [
    {
     "name": "stdout",
     "output_type": "stream",
     "text": [
      "is_click utm_source  False  True  percent_clicked\n",
      "0             email    175    80            45.71\n",
      "1          facebook    324   180            55.56\n",
      "2            google    441   239            54.20\n",
      "3           twitter    149    66            44.30\n"
     ]
    }
   ],
   "source": [
    "#Create a new column in clicks_pivot called percent_clicked which is equal to the percent of users who clicked on the ad from each utm_source.\n",
    "clicks_pivot['percent_clicked'] = round((clicks_pivot[True] / clicks_pivot[False]) * 100, 2)\n",
    "\n",
    "print(clicks_pivot)"
   ]
  },
  {
   "cell_type": "code",
   "execution_count": 8,
   "id": "ea884bac",
   "metadata": {},
   "outputs": [
    {
     "name": "stdout",
     "output_type": "stream",
     "text": [
      "  experimental_group  user_id\n",
      "0                  A      827\n",
      "1                  B      827\n"
     ]
    }
   ],
   "source": [
    "#Count the number of each group if it is equal\n",
    "\n",
    "print(ad_clicks.groupby(['experimental_group']).user_id.count().reset_index())"
   ]
  },
  {
   "cell_type": "code",
   "execution_count": 9,
   "id": "73bd1ffb",
   "metadata": {},
   "outputs": [
    {
     "name": "stdout",
     "output_type": "stream",
     "text": [
      "experimental_group  is_click    A    B\n",
      "0                      False  517  572\n",
      "1                       True  310  255\n"
     ]
    }
   ],
   "source": [
    "print(ad_clicks.groupby(['is_click', 'experimental_group']).user_id.count().reset_index().pivot(\n",
    "  columns = 'experimental_group',\n",
    "  index = 'is_click',\n",
    "  values = 'user_id'\n",
    ").reset_index())"
   ]
  },
  {
   "cell_type": "code",
   "execution_count": 10,
   "id": "07ca5960",
   "metadata": {},
   "outputs": [],
   "source": [
    "#Create a dataframe for experiment groups A and B\n",
    "\n",
    "a_clicks = ad_clicks[ad_clicks.experimental_group == 'A']\n",
    "b_clicks = ad_clicks[ad_clicks.experimental_group == 'B']"
   ]
  },
  {
   "cell_type": "code",
   "execution_count": 11,
   "id": "465b1ed7",
   "metadata": {},
   "outputs": [
    {
     "name": "stdout",
     "output_type": "stream",
     "text": [
      "is_click            day  False  True  Percent_Clicked\n",
      "0            1 - Monday     70    43            61.43\n",
      "1           2 - Tuesday     76    43            56.58\n",
      "2         3 - Wednesday     86    38            44.19\n",
      "3          4 - Thursday     69    47            68.12\n",
      "4            5 - Friday     77    51            66.23\n",
      "5          6 - Saturday     73    45            61.64\n",
      "6            7 - Sunday     66    43            65.15\n"
     ]
    }
   ],
   "source": [
    "#For Control A\n",
    "\n",
    "a_pivot = a_clicks.groupby(['is_click', 'day']).user_id.count().reset_index().pivot(\n",
    "  columns = 'is_click',\n",
    "  index = 'day',\n",
    "  values = 'user_id'\n",
    ").reset_index()\n",
    "\n",
    "a_pivot['Percent_Clicked'] = round((a_pivot[True] /a_pivot[False]) * 100, 2)\n",
    "\n",
    "print(a_pivot)"
   ]
  },
  {
   "cell_type": "code",
   "execution_count": 12,
   "id": "2d9d49df",
   "metadata": {},
   "outputs": [
    {
     "name": "stdout",
     "output_type": "stream",
     "text": [
      "is_click            day  False  True  Percent_Clicked\n",
      "0            1 - Monday     81    32            39.51\n",
      "1           2 - Tuesday     74    45            60.81\n",
      "2         3 - Wednesday     89    35            39.33\n",
      "3          4 - Thursday     87    29            33.33\n",
      "4            5 - Friday     90    38            42.22\n",
      "5          6 - Saturday     76    42            55.26\n",
      "6            7 - Sunday     75    34            45.33\n"
     ]
    }
   ],
   "source": [
    "#For Control B\n",
    "\n",
    "b_pivot = b_clicks.groupby(['is_click', 'day']).user_id.count().reset_index().pivot(\n",
    "  columns = 'is_click',\n",
    "  index = 'day',\n",
    "  values = 'user_id'\n",
    ").reset_index()\n",
    "\n",
    "b_pivot['Percent_Clicked'] = round((b_pivot[True] /b_pivot[False]) * 100, 2)\n",
    "\n",
    "print(b_pivot)"
   ]
  }
 ],
 "metadata": {
  "kernelspec": {
   "display_name": "Python 3 (ipykernel)",
   "language": "python",
   "name": "python3"
  },
  "language_info": {
   "codemirror_mode": {
    "name": "ipython",
    "version": 3
   },
   "file_extension": ".py",
   "mimetype": "text/x-python",
   "name": "python",
   "nbconvert_exporter": "python",
   "pygments_lexer": "ipython3",
   "version": "3.10.2"
  }
 },
 "nbformat": 4,
 "nbformat_minor": 5
}
