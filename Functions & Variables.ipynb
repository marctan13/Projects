{
 "cells": [
  {
   "cell_type": "code",
   "execution_count": 1,
   "id": "9ea2e4d4",
   "metadata": {},
   "outputs": [
    {
     "name": "stdout",
     "output_type": "stream",
     "text": [
      "The estimated insurance cost for Maria is 5469.0 dollars.\n",
      "The estimated insurance cost for Omar is 28336.0 dollars.\n"
     ]
    }
   ],
   "source": [
    "# Initial variables for Maria \n",
    "age = 28\n",
    "sex = 0  # 0 if female, 1 if male \n",
    "bmi = 26.2\n",
    "num_of_children = 3\n",
    "smoker = 0  # 0 if non-smoker, 1 if smoker\n",
    "\n",
    "# Estimate Maria's insurance cost\n",
    "insurance_cost = 250*age - 128*sex + 370*bmi + 425*num_of_children + 24000*smoker - 12500\n",
    "\n",
    "print(\"The estimated insurance cost for Maria is \" + str(insurance_cost) + \" dollars.\")\n",
    "\n",
    "# Initial variables for Omar\n",
    "age = 35\n",
    "sex = 1 \n",
    "bmi = 22.2\n",
    "num_of_children = 0\n",
    "smoker = 1  \n",
    "\n",
    "# Estimate Omar's insurance cost \n",
    "insurance_cost = 250*age - 128*sex + 370*bmi + 425*num_of_children + 24000*smoker - 12500\n",
    "\n",
    "print(\"The estimated insurance cost for Omar is \" + str(insurance_cost) + \" dollars.\")"
   ]
  },
  {
   "cell_type": "code",
   "execution_count": 6,
   "id": "810ffb48",
   "metadata": {},
   "outputs": [],
   "source": [
    "#create function to return estimated cost with patient's info for parameters\n",
    "def calculate_insurance_cost(name, age, sex, bmi, num_of_children, smoker):\n",
    "  estimated_cost = 250*age - 128*sex + 370*bmi + 425*num_of_children + 24000*smoker - 12500\n",
    "  print(\"The estimated insurance cost for \" + name+ \" is \" + str(estimated_cost) + \" dollars.\")\n",
    "  return estimated_cost"
   ]
  },
  {
   "cell_type": "code",
   "execution_count": 7,
   "id": "8e8ef8f8",
   "metadata": {},
   "outputs": [
    {
     "name": "stdout",
     "output_type": "stream",
     "text": [
      "The estimated insurance cost for Maria is 5469.0 dollars.\n"
     ]
    }
   ],
   "source": [
    "#assigning a variable for Maria using the function\n",
    "\n",
    "maria_insurance_cost = calculate_insurance_cost(name = \"Maria\", age = 28, sex = 0, bmi = 26.2, num_of_children = 3, smoker = 0)"
   ]
  },
  {
   "cell_type": "code",
   "execution_count": 8,
   "id": "69356466",
   "metadata": {},
   "outputs": [
    {
     "name": "stdout",
     "output_type": "stream",
     "text": [
      "The estimated insurance cost for Omar is 28336.0 dollars.\n"
     ]
    }
   ],
   "source": [
    "#assigning a variable for Omar using the function\n",
    "omar_insurance_cost = calculate_insurance_cost(name = \"Omar\", age= 35, sex = 1, bmi = 22.2, num_of_children = 0, smoker = 1)"
   ]
  },
  {
   "cell_type": "code",
   "execution_count": null,
   "id": "19cd8500",
   "metadata": {},
   "outputs": [],
   "source": [
    "marc_insurance_cost = calculate_insurance_cost(\"Marc\", 30, 1, 22.6, 0, 0)"
   ]
  }
 ],
 "metadata": {
  "kernelspec": {
   "display_name": "Python 3 (ipykernel)",
   "language": "python",
   "name": "python3"
  },
  "language_info": {
   "codemirror_mode": {
    "name": "ipython",
    "version": 3
   },
   "file_extension": ".py",
   "mimetype": "text/x-python",
   "name": "python",
   "nbconvert_exporter": "python",
   "pygments_lexer": "ipython3",
   "version": "3.10.2"
  }
 },
 "nbformat": 4,
 "nbformat_minor": 5
}
